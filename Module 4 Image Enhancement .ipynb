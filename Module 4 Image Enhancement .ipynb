{
 "cells": [
  {
   "cell_type": "code",
   "execution_count": 1,
   "id": "86c62784-573c-47ac-bcb2-21d0e656c76d",
   "metadata": {},
   "outputs": [],
   "source": [
    "import cv2\n",
    "import numpy as np\n",
    "import matplotlib.pyplot as plt\n",
    "%matplotlib inline\n",
    "from IPython.display import Image"
   ]
  },
  {
   "cell_type": "code",
   "execution_count": 3,
   "id": "b4113893-b1bb-44fa-8d5f-5111c20379af",
   "metadata": {},
   "outputs": [
    {
     "name": "stdout",
     "output_type": "stream",
     "text": [
      "[[221 221 220 ... 224 224 224]\n",
      " [213 213 212 ... 217 217 217]\n",
      " [212 211 211 ... 216 216 216]\n",
      " ...\n",
      " [161 161 161 ... 133 134 134]\n",
      " [212 212 212 ... 200 200 200]\n",
      " [255 255 255 ... 255 255 255]]\n"
     ]
    }
   ],
   "source": [
    "img = cv2.imread(\"Piano_Sheet_Music.png\", cv2.IMREAD_GRAYSCALE)"
   ]
  },
  {
   "cell_type": "code",
   "execution_count": null,
   "id": "5b05b4f2-470a-41da-af04-f6f6be8f7d73",
   "metadata": {},
   "outputs": [],
   "source": [
    "img_50 = cv2.threshold(img, 50, 255, cv2.THRESH_BINARY)\n",
    "img_130 = cv2.threshold(img, 130, 255, cv2.THRESH_BINARY)\n",
    "img_adp = cv2.adaptiveThreshold(img, 255, cv2.ADAPTIVE_THRESH_MEAN_C, cv2.THRESH_BINARY, 11, 7)\n"
   ]
  }
 ],
 "metadata": {
  "kernelspec": {
   "display_name": "Python 3 (ipykernel)",
   "language": "python",
   "name": "python3"
  },
  "language_info": {
   "codemirror_mode": {
    "name": "ipython",
    "version": 3
   },
   "file_extension": ".py",
   "mimetype": "text/x-python",
   "name": "python",
   "nbconvert_exporter": "python",
   "pygments_lexer": "ipython3",
   "version": "3.9.0"
  }
 },
 "nbformat": 4,
 "nbformat_minor": 5
}
