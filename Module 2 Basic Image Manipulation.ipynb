{
 "cells": [
  {
   "cell_type": "code",
   "execution_count": null,
   "id": "596f897d-b5a5-43f5-a459-60e048da35a3",
   "metadata": {},
   "outputs": [],
   "source": [
    "import cv2\n",
    "import numpy as np\n",
    "import matplotlib.pyplot as plt\n",
    "%matplotlib inline\n",
    "from IPython.display import Image"
   ]
  },
  {
   "cell_type": "markdown",
   "id": "5e4fe831-2281-4bc6-9290-bd93837efc75",
   "metadata": {},
   "source": [
    "set value by slice"
   ]
  },
  {
   "cell_type": "code",
   "execution_count": null,
   "id": "5a74d45c-70c8-47df-91a7-279d4bb5f324",
   "metadata": {},
   "outputs": [],
   "source": [
    "img = cv2.imread(\"checkerboard_18x18.png\")\n",
    "img[2:4, 2:4] = 200\n",
    "plt.imshow(img)"
   ]
  },
  {
   "cell_type": "code",
   "execution_count": null,
   "id": "b6afcccb-5d8a-42f2-89fd-cb3a14773c5e",
   "metadata": {},
   "outputs": [],
   "source": []
  }
 ],
 "metadata": {
  "kernelspec": {
   "display_name": "Python 3 (ipykernel)",
   "language": "python",
   "name": "python3"
  },
  "language_info": {
   "codemirror_mode": {
    "name": "ipython",
    "version": 3
   },
   "file_extension": ".py",
   "mimetype": "text/x-python",
   "name": "python",
   "nbconvert_exporter": "python",
   "pygments_lexer": "ipython3",
   "version": "3.9.5"
  }
 },
 "nbformat": 4,
 "nbformat_minor": 5
}
