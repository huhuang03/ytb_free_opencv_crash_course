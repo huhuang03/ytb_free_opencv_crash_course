{
 "cells": [
  {
   "cell_type": "code",
   "execution_count": null,
   "id": "d89d5888-3f35-4fa3-bada-9475d5d9c0f9",
   "metadata": {},
   "outputs": [],
   "source": [
    "import cv2\n",
    "import sys\n",
    "import os\n",
    "import matplotlib.pyplot as plt\n",
    "%matplotlib inline\n",
    "from matplotlib.animation import FuncAnimation\n",
    "import urllib\n",
    "\n",
    "video_input_file_name = 'race_car.mp4'\n",
    "# prepare some util function\n",
    "\n",
    "def drawRectangle(frame, bbox):\n",
    "    l, t, w, h = bbox\n",
    "    l, t, r, b = [int(l), int(t), int(l + w), int(t + h)]\n",
    "    cv2.rectangle(frame, (l, t), (r, b), (255, 0, 0), 2, 1)\n",
    "\n",
    "def displayRectangel(frame, box):\n",
    "    plt.figure(figsize=(20, 10))\n",
    "    frameCopy = frame.copy()\n",
    "    drawRectangle(frameCopy, bbox)\n",
    "    plt.imshow([:,:,::-1]); plt.axis('off')\n",
    "    \n",
    "def drawText(frame, txt, location, color=(50, 170, 50)):\n",
    "    cv2.putText(frame, txt, location, cv2.FONT_HERSHEY_SIMPLEX, 1, color, 3)\n",
    "    \n",
    "if not os.path.isfile('goturn.prototxt') or os.path.isfile('goturn.caffemodel'):\n",
    "    print(\"Donwloading GOTURN model zip file\")\n",
    "    urllib.request.urlretrieve(\""
   ]
  }
 ],
 "metadata": {
  "kernelspec": {
   "display_name": "Python 3 (ipykernel)",
   "language": "python",
   "name": "python3"
  },
  "language_info": {
   "codemirror_mode": {
    "name": "ipython",
    "version": 3
   },
   "file_extension": ".py",
   "mimetype": "text/x-python",
   "name": "python",
   "nbconvert_exporter": "python",
   "pygments_lexer": "ipython3",
   "version": "3.9.5"
  }
 },
 "nbformat": 4,
 "nbformat_minor": 5
}
