{
 "cells": [
  {
   "cell_type": "code",
   "execution_count": 7,
   "id": "d89d5888-3f35-4fa3-bada-9475d5d9c0f9",
   "metadata": {},
   "outputs": [
    {
     "ename": "AttributeError",
     "evalue": "module 'cv2.cv2' has no attribute 'TrackerKCF_create'",
     "output_type": "error",
     "traceback": [
      "\u001b[1;31m---------------------------------------------------------------------------\u001b[0m",
      "\u001b[1;31mAttributeError\u001b[0m                            Traceback (most recent call last)",
      "\u001b[1;32m~\\AppData\\Local\\Temp/ipykernel_26520/824907702.py\u001b[0m in \u001b[0;36m<module>\u001b[1;34m\u001b[0m\n\u001b[0;32m     37\u001b[0m     \u001b[0mtracker\u001b[0m \u001b[1;33m=\u001b[0m \u001b[0mcv2\u001b[0m\u001b[1;33m.\u001b[0m\u001b[0mTrackerMIL_create\u001b[0m\u001b[1;33m(\u001b[0m\u001b[1;33m)\u001b[0m\u001b[1;33m\u001b[0m\u001b[1;33m\u001b[0m\u001b[0m\n\u001b[0;32m     38\u001b[0m \u001b[1;32melif\u001b[0m \u001b[0mtracker_type\u001b[0m \u001b[1;33m==\u001b[0m \u001b[1;34m\"KCF\"\u001b[0m\u001b[1;33m:\u001b[0m\u001b[1;33m\u001b[0m\u001b[1;33m\u001b[0m\u001b[0m\n\u001b[1;32m---> 39\u001b[1;33m     \u001b[0mtracker\u001b[0m \u001b[1;33m=\u001b[0m \u001b[0mcv2\u001b[0m\u001b[1;33m.\u001b[0m\u001b[0mTrackerKCF_create\u001b[0m\u001b[1;33m(\u001b[0m\u001b[1;33m)\u001b[0m\u001b[1;33m\u001b[0m\u001b[1;33m\u001b[0m\u001b[0m\n\u001b[0m\u001b[0;32m     40\u001b[0m \u001b[1;32melif\u001b[0m \u001b[0mtracker_type\u001b[0m \u001b[1;33m==\u001b[0m \u001b[1;34m\"CSRT\"\u001b[0m\u001b[1;33m:\u001b[0m\u001b[1;33m\u001b[0m\u001b[1;33m\u001b[0m\u001b[0m\n\u001b[0;32m     41\u001b[0m     \u001b[0mtrakcer\u001b[0m \u001b[1;33m=\u001b[0m \u001b[0mcv2\u001b[0m\u001b[1;33m.\u001b[0m\u001b[0mlegacy_TrackerCSRT\u001b[0m\u001b[1;33m.\u001b[0m\u001b[0mcreate\u001b[0m\u001b[1;33m(\u001b[0m\u001b[1;33m)\u001b[0m\u001b[1;33m\u001b[0m\u001b[1;33m\u001b[0m\u001b[0m\n",
      "\u001b[1;31mAttributeError\u001b[0m: module 'cv2.cv2' has no attribute 'TrackerKCF_create'"
     ]
    }
   ],
   "source": [
    "import cv2\n",
    "import sys\n",
    "import os\n",
    "import matplotlib.pyplot as plt\n",
    "%matplotlib inline\n",
    "from matplotlib.animation import FuncAnimation\n",
    "import urllib\n",
    "\n",
    "video_input_file_name = 'race_car.mp4'\n",
    "# prepare some util function\n",
    "\n",
    "def drawRectangle(frame, bbox):\n",
    "    l, t, w, h = bbox\n",
    "    l, t, r, b = [int(l), int(t), int(l + w), int(t + h)]\n",
    "    cv2.rectangle(frame, (l, t), (r, b), (255, 0, 0), 2, 1)\n",
    "\n",
    "def displayRectangel(frame, box):\n",
    "    plt.figure(figsize=(20, 10))\n",
    "    frameCopy = frame.copy()\n",
    "    drawRectangle(frameCopy, bbox)\n",
    "    plt.imshow(frame[:,:,::-1]); plt.axis('off')\n",
    "    \n",
    "def drawText(frame, txt, location, color=(50, 170, 50)):\n",
    "    cv2.putText(frame, txt, location, cv2.FONT_HERSHEY_SIMPLEX, 1, color, 3)\n",
    "    \n",
    "# you need download the train result model youself.\n",
    "assert os.path.isfile('goturn.prototxt') \n",
    "assert os.path.isfile('goturn.caffemodel')\n",
    "\n",
    "# Setup tracker\n",
    "tracker_types = [\"BOOSTING\", \"MIL\", \"KCF\", \"CSRT\", \"TLD\", \"MEDIANFLOW\", \"GOTURN\", \"MOSSE\"]\n",
    "tracker_type = tracker_types[2]\n",
    "\n",
    "if tracker_type == \"BOOSTING\":\n",
    "    tracker = cv2.legacy_TrackerBoosting.create()\n",
    "elif tracker_type == \"MIL\":\n",
    "    tracker = cv2.TrackerMIL_create()\n",
    "elif tracker_type == \"KCF\":\n",
    "    # require opencv-contrib-python package\n",
    "    tracker = cv2.TrackerKCF_create()\n",
    "elif tracker_type == \"CSRT\":\n",
    "    trakcer = cv2.legacy_TrackerCSRT.create()\n",
    "elif tracker_type == 'TLD':\n",
    "    tacker = cv2.legacy_TrackerTLD.create()\n",
    "elif tracker_type == 'MEDIANFLOW':\n",
    "    tracker = cv2.legacy_TrackerMedianFlow.create()\n",
    "elif tracker_type == 'GOTURN':\n",
    "    tracker = cv2.TrackerGOTURN_create()\n",
    "else:\n",
    "    tracker = cv2.legacy_TrackerMOSSE.create()\n",
    "    \n",
    "# Read Video\n",
    "\n",
    "video = cv2.VideoCapture(video_input_file_name)\n",
    "ok, frame = video.read()\n",
    "\n",
    "width = int(video.get(cv2.CAP_PROP_FRAME_WIDTH))\n",
    "height = int(video.get(cv2.CAP_PROP_FRAME_HEIGHT))\n",
    "\n",
    "video_output_file_name = 'out-race_car-' + trackder_type + '.mp4'\n",
    "video_out = cv2.VideoWriter(video_output_file_name, cv2.VideoWriter_fourcc(*'avc1'), 10, (width, height))\n",
    "\n",
    "bbox = (1300, 405, 160, 120)\n",
    "displayRectangle(frame, box)"
   ]
  },
  {
   "cell_type": "code",
   "execution_count": null,
   "id": "368a44ef-fb82-480a-a0c4-20399c48e824",
   "metadata": {},
   "outputs": [],
   "source": []
  },
  {
   "cell_type": "raw",
   "id": "317c410c-3f3c-4541-9a4f-e60782796a55",
   "metadata": {},
   "source": []
  }
 ],
 "metadata": {
  "kernelspec": {
   "display_name": "Python 3 (ipykernel)",
   "language": "python",
   "name": "python3"
  },
  "language_info": {
   "codemirror_mode": {
    "name": "ipython",
    "version": 3
   },
   "file_extension": ".py",
   "mimetype": "text/x-python",
   "name": "python",
   "nbconvert_exporter": "python",
   "pygments_lexer": "ipython3",
   "version": "3.9.5"
  }
 },
 "nbformat": 4,
 "nbformat_minor": 5
}
