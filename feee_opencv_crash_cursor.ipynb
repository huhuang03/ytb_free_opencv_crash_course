{
 "cells": [
  {
   "cell_type": "markdown",
   "id": "9fd6eb96-24da-4b6f-a51e-1debc683c962",
   "metadata": {},
   "source": [
    "The cursor link: https://www.youtube.com/watch?v=Z846tkgl9-U&t=29s\n",
    "\n",
    "And the code: https://opencv.org/opencv-free-course/\n",
    "\n",
    "But the source code is very big(>1G). I think theres some video in it.\n",
    "\n",
    "So I will not put the very big video in source contro. You can download yourself.\n",
    "\n",
    "Ok, no let's begin"
   ]
  },
  {
   "cell_type": "code",
   "execution_count": 5,
   "id": "06b427fb-696d-496b-9377-836f6ab6565d",
   "metadata": {},
   "outputs": [],
   "source": [
    "import cv2\n",
    "import numpy as np\n",
    "import matplotlib.pyplot as plt\n",
    "%matplotlib inline\n",
    "from IPython.display import Image"
   ]
  },
  {
   "cell_type": "markdown",
   "id": "46203586-de5e-4672-968a-f858b27c5397",
   "metadata": {},
   "source": [
    "# Display Image Directly"
   ]
  },
  {
   "cell_type": "code",
   "execution_count": 6,
   "id": "02f22cba-cc22-4176-a65e-7d837c2db8a5",
   "metadata": {},
   "outputs": [
    {
     "data": {
      "image/png": "[encoded data removed]",
      "text/plain": [
       "<IPython.core.display.Image object>"
      ]
     },
     "execution_count": 6,
     "metadata": {},
     "output_type": "execute_result"
    }
   ],
   "source": [
    "Image(filename=\"checkerboard_18x18.png\")"
   ]
  },
  {
   "cell_type": "code",
   "execution_count": null,
   "id": "a741457b-25cb-4a92-907a-a62b9fc110e6",
   "metadata": {},
   "outputs": [],
   "source": []
  }
 ],
 "metadata": {
  "kernelspec": {
   "display_name": "Python 3 (ipykernel)",
   "language": "python",
   "name": "python3"
  },
  "language_info": {
   "codemirror_mode": {
    "name": "ipython",
    "version": 3
   },
   "file_extension": ".py",
   "mimetype": "text/x-python",
   "name": "python",
   "nbconvert_exporter": "python",
   "pygments_lexer": "ipython3",
   "version": "3.9.5"
  }
 },
 "nbformat": 4,
 "nbformat_minor": 5
}
