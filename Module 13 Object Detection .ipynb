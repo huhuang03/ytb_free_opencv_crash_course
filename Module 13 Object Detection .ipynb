{
 "cells": [
  {
   "cell_type": "code",
   "execution_count": null,
   "id": "c68f4cc1-fa82-48d6-80bd-77f1ab38adfc",
   "metadata": {},
   "outputs": [],
   "source": [
    "model_file = \"models/ssd_mobilenet_v2_coco_2018_03_29/frozen_inference_graph.pb\"\n",
    "config_file = \"models/ssd_mobilenet_v2_coco_2018_03_29/pbtxt\"\n",
    "class_file = \"coco_class_labels.txt\"\n",
    "\n"
   ]
  }
 ],
 "metadata": {
  "kernelspec": {
   "display_name": "Python 3 (ipykernel)",
   "language": "python",
   "name": "python3"
  },
  "language_info": {
   "codemirror_mode": {
    "name": "ipython",
    "version": 3
   },
   "file_extension": ".py",
   "mimetype": "text/x-python",
   "name": "python",
   "nbconvert_exporter": "python",
   "pygments_lexer": "ipython3",
   "version": "3.9.0"
  }
 },
 "nbformat": 4,
 "nbformat_minor": 5
}
